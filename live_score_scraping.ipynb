{
 "cells": [
  {
   "cell_type": "code",
   "execution_count": 1,
   "id": "387c76ac",
   "metadata": {},
   "outputs": [],
   "source": [
    "import pandas as pd\n",
    "import numpy as np\n",
    "import requests\n",
    "from bs4 import BeautifulSoup\n",
    "\n",
    "from selenium import webdriver\n",
    "from selenium.webdriver.chrome.service import Service\n",
    "from selenium.webdriver.chrome.options import Options\n",
    "\n",
    "import os\n",
    "\n",
    "import time\n",
    "import datetime\n",
    "import calendar"
   ]
  },
  {
   "cell_type": "code",
   "execution_count": 3,
   "id": "303e96a0",
   "metadata": {},
   "outputs": [],
   "source": [
    "def today_matchups():\n",
    "    opts = Options()\n",
    "    opts.add_argument(\"--headless\")\n",
    "\n",
    "    url = \"https://www.cbssports.com/nba/injuries/\"\n",
    "\n",
    "    driver = webdriver.Chrome(options=opts)\n",
    "    driver.set_page_load_timeout(20)\n",
    "    time.sleep(1)\n",
    "    driver.set_window_size(2100, 9000)\n",
    "    driver.get(url)\n",
    "\n",
    "    html = driver.page_source\n",
    "    soup = BeautifulSoup(html, \"html.parser\")\n",
    "\n",
    "    date = datetime.datetime.today().strftime(\"%m-%d-%y\")\n",
    "    day = datetime.datetime.today().strftime(\"%A\")\n",
    "\n",
    "    games = soup.find_all(\"div\", class_='Scoreboard__Row flex w-100 Scoreboard__Row__Main')\n",
    "    games_data = []\n",
    "    try:\n",
    "        for game in games:\n",
    "            game_data = {}\n",
    "            away_tm = \\\n",
    "            game.find_all(\"div\", class_=\"ScoreCell__TeamName ScoreCell__TeamName--shortDisplayName truncate db\")[0]\n",
    "            home_tm = \\\n",
    "            game.find_all(\"div\", class_=\"ScoreCell__TeamName ScoreCell__TeamName--shortDisplayName truncate db\")[1]\n",
    "            game_data['Date'] = date\n",
    "            game_data['Day'] = day\n",
    "            \n",
    "            try:\n",
    "                game_data['Time'] = game.find(\"div\", class_=\"ScoreCell__Time ScoreboardScoreCell__Time h9 clr-gray-03\").text\n",
    "            except:\n",
    "                try:\n",
    "                    game_data['Time'] = game.find(\"div\", class_=\"ScoreCell__Time ScoreboardScoreCell__Time h9 clr-gray-01\").text\n",
    "                except: \n",
    "                    try:\n",
    "                        game_data['Time'] = game.find(\"div\", class_=\"ScoreCell__Time ScoreboardScoreCell__Time h9 clr-negative\").text\n",
    "                    except: pass\n",
    "            \n",
    "            try: \n",
    "                game_data['O/U'] = '{0:.1f}'.format(float(str(game.find(\"div\", class_=\"Odds__Message\").text).split(' ')[-1]))\n",
    "                game_data['Line'] = str(game.find(\"div\", class_=\"Odds__Message\").text).lstrip('Line : ').split('O/U')[0]\n",
    "            except: \n",
    "                game_data['O/U'] = 'In Prog.'\n",
    "                game_data['Line'] = 'In Prog.'\n",
    "\n",
    "            game_data[\"Away\"] = away_tm.text\n",
    "            # game_data[\"away_tm_abbr\"] = team_names_nocity_dict[away_tm.text]\n",
    "\n",
    "            try:\n",
    "                game_data[\"Away Score\"] = game.find_all(\"div\", class_=\"ScoreCell__Score h4 clr-gray-01 fw-heavy tar ScoreCell_Score--scoreboard pl2\")[0].text\n",
    "            except:\n",
    "                game_data['Away Score'] = 0\n",
    "\n",
    "            game_data[\"Home\"] = home_tm.text\n",
    "            # game_data[\"home_tm_abbr\"] = team_names_nocity_dict[home_tm.text]\n",
    "\n",
    "            try:\n",
    "                game_data[\"Home Score\"] = game.find_all(\"div\", class_=\"ScoreCell__Score h4 clr-gray-01 fw-heavy tar ScoreCell_Score--scoreboard pl2\")[1].text\n",
    "            except:\n",
    "                game_data['Home Score'] = 0\n",
    "\n",
    "            games_data.append(game_data)\n",
    "    except: pass\n",
    "    df = pd.DataFrame(games_data)\n",
    "    driver.quit()\n",
    "\n",
    "    return df"
   ]
  },
  {
   "cell_type": "code",
   "execution_count": 4,
   "id": "2fb6c470",
   "metadata": {},
   "outputs": [
    {
     "data": {
      "text/html": [
       "<div>\n",
       "<style scoped>\n",
       "    .dataframe tbody tr th:only-of-type {\n",
       "        vertical-align: middle;\n",
       "    }\n",
       "\n",
       "    .dataframe tbody tr th {\n",
       "        vertical-align: top;\n",
       "    }\n",
       "\n",
       "    .dataframe thead th {\n",
       "        text-align: right;\n",
       "    }\n",
       "</style>\n",
       "<table border=\"1\" class=\"dataframe\">\n",
       "  <thead>\n",
       "    <tr style=\"text-align: right;\">\n",
       "      <th></th>\n",
       "    </tr>\n",
       "  </thead>\n",
       "  <tbody>\n",
       "  </tbody>\n",
       "</table>\n",
       "</div>"
      ],
      "text/plain": [
       "Empty DataFrame\n",
       "Columns: []\n",
       "Index: []"
      ]
     },
     "metadata": {},
     "output_type": "display_data"
    }
   ],
   "source": [
    "display(today_matchups())"
   ]
  }
 ],
 "metadata": {
  "kernelspec": {
   "display_name": "Python 3",
   "language": "python",
   "name": "python3"
  },
  "language_info": {
   "codemirror_mode": {
    "name": "ipython",
    "version": 3
   },
   "file_extension": ".py",
   "mimetype": "text/x-python",
   "name": "python",
   "nbconvert_exporter": "python",
   "pygments_lexer": "ipython3",
   "version": "3.13.2"
  }
 },
 "nbformat": 4,
 "nbformat_minor": 5
}
